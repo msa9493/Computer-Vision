{
 "cells": [
  {
   "cell_type": "markdown",
   "metadata": {},
   "source": [
    "## CIFAR - Canadian Institute For Advanced Research\n",
    "\n",
    "60,000 photos divided into 10 classes"
   ]
  },
  {
   "cell_type": "code",
   "execution_count": 2,
   "metadata": {},
   "outputs": [
    {
     "name": "stderr",
     "output_type": "stream",
     "text": [
      "Using TensorFlow backend.\n",
      "C:\\Users\\zenit\\.julia\\conda\\3\\lib\\site-packages\\tensorflow\\python\\framework\\dtypes.py:526: FutureWarning: Passing (type, 1) or '1type' as a synonym of type is deprecated; in a future version of numpy, it will be understood as (type, (1,)) / '(1,)type'.\n",
      "  _np_qint8 = np.dtype([(\"qint8\", np.int8, 1)])\n",
      "C:\\Users\\zenit\\.julia\\conda\\3\\lib\\site-packages\\tensorflow\\python\\framework\\dtypes.py:527: FutureWarning: Passing (type, 1) or '1type' as a synonym of type is deprecated; in a future version of numpy, it will be understood as (type, (1,)) / '(1,)type'.\n",
      "  _np_quint8 = np.dtype([(\"quint8\", np.uint8, 1)])\n",
      "C:\\Users\\zenit\\.julia\\conda\\3\\lib\\site-packages\\tensorflow\\python\\framework\\dtypes.py:528: FutureWarning: Passing (type, 1) or '1type' as a synonym of type is deprecated; in a future version of numpy, it will be understood as (type, (1,)) / '(1,)type'.\n",
      "  _np_qint16 = np.dtype([(\"qint16\", np.int16, 1)])\n",
      "C:\\Users\\zenit\\.julia\\conda\\3\\lib\\site-packages\\tensorflow\\python\\framework\\dtypes.py:529: FutureWarning: Passing (type, 1) or '1type' as a synonym of type is deprecated; in a future version of numpy, it will be understood as (type, (1,)) / '(1,)type'.\n",
      "  _np_quint16 = np.dtype([(\"quint16\", np.uint16, 1)])\n",
      "C:\\Users\\zenit\\.julia\\conda\\3\\lib\\site-packages\\tensorflow\\python\\framework\\dtypes.py:530: FutureWarning: Passing (type, 1) or '1type' as a synonym of type is deprecated; in a future version of numpy, it will be understood as (type, (1,)) / '(1,)type'.\n",
      "  _np_qint32 = np.dtype([(\"qint32\", np.int32, 1)])\n",
      "C:\\Users\\zenit\\.julia\\conda\\3\\lib\\site-packages\\tensorflow\\python\\framework\\dtypes.py:535: FutureWarning: Passing (type, 1) or '1type' as a synonym of type is deprecated; in a future version of numpy, it will be understood as (type, (1,)) / '(1,)type'.\n",
      "  np_resource = np.dtype([(\"resource\", np.ubyte, 1)])\n"
     ]
    }
   ],
   "source": [
    "import keras\n",
    "from keras.datasets import cifar10\n",
    "\n",
    "import matplotlib.pyplot as plt"
   ]
  },
  {
   "cell_type": "markdown",
   "metadata": {},
   "source": [
    "## Load the data into train and test"
   ]
  },
  {
   "cell_type": "code",
   "execution_count": 3,
   "metadata": {},
   "outputs": [],
   "source": [
    "(X_train, y_train), (X_test, y_test) = cifar10.load_data()"
   ]
  },
  {
   "cell_type": "markdown",
   "metadata": {},
   "source": [
    "### Data description:\n",
    "50,000 training samples\n",
    "each image is 32x32 spatial dimension and 3 channels"
   ]
  },
  {
   "cell_type": "code",
   "execution_count": 12,
   "metadata": {},
   "outputs": [
    {
     "name": "stdout",
     "output_type": "stream",
     "text": [
      "Training predictor shape (50000, 32, 32, 3) \n",
      "Test predictor shape (10000, 32, 32, 3) \n",
      "Training Target shape (50000, 1) \n",
      "Test Target shape (10000, 1)\n"
     ]
    }
   ],
   "source": [
    "print(\"Training predictor shape\", X_train.shape, \"\\nTest predictor shape\", X_test.shape, \"\\nTraining Target shape\", y_train.shape, \"\\nTest Target shape\", y_test.shape)"
   ]
  },
  {
   "cell_type": "code",
   "execution_count": 38,
   "metadata": {},
   "outputs": [
    {
     "data": {
      "text/plain": [
       "array([[[229, 229, 239],\n",
       "        [236, 237, 247],\n",
       "        [234, 236, 247],\n",
       "        ...,\n",
       "        [217, 219, 233],\n",
       "        [221, 223, 234],\n",
       "        [222, 223, 233]],\n",
       "\n",
       "       [[222, 221, 229],\n",
       "        [239, 239, 249],\n",
       "        [233, 234, 246],\n",
       "        ...,\n",
       "        [223, 223, 236],\n",
       "        [227, 228, 238],\n",
       "        [210, 211, 220]],\n",
       "\n",
       "       [[213, 206, 211],\n",
       "        [234, 232, 239],\n",
       "        [231, 233, 244],\n",
       "        ...,\n",
       "        [220, 220, 232],\n",
       "        [220, 219, 232],\n",
       "        [202, 203, 215]],\n",
       "\n",
       "       ...,\n",
       "\n",
       "       [[150, 143, 135],\n",
       "        [140, 135, 127],\n",
       "        [132, 127, 120],\n",
       "        ...,\n",
       "        [224, 222, 218],\n",
       "        [230, 228, 225],\n",
       "        [241, 241, 238]],\n",
       "\n",
       "       [[137, 132, 126],\n",
       "        [130, 127, 120],\n",
       "        [125, 121, 115],\n",
       "        ...,\n",
       "        [181, 180, 178],\n",
       "        [202, 201, 198],\n",
       "        [212, 211, 207]],\n",
       "\n",
       "       [[122, 119, 114],\n",
       "        [118, 116, 110],\n",
       "        [120, 116, 111],\n",
       "        ...,\n",
       "        [179, 177, 173],\n",
       "        [164, 164, 162],\n",
       "        [163, 163, 161]]], dtype=uint8)"
      ]
     },
     "execution_count": 38,
     "metadata": {},
     "output_type": "execute_result"
    }
   ],
   "source": [
    "X_train[49999]"
   ]
  },
  {
   "cell_type": "markdown",
   "metadata": {},
   "source": [
    "## View the image "
   ]
  },
  {
   "cell_type": "code",
   "execution_count": 39,
   "metadata": {},
   "outputs": [
    {
     "data": {
      "text/plain": [
       "<matplotlib.image.AxesImage at 0x21f49790ac8>"
      ]
     },
     "execution_count": 39,
     "metadata": {},
     "output_type": "execute_result"
    },
    {
     "data": {
      "image/png": "[encoded data removed]",
      "text/plain": [
       "<Figure size 432x288 with 1 Axes>"
      ]
     },
     "metadata": {
      "needs_background": "light"
     },
     "output_type": "display_data"
    }
   ],
   "source": [
    "plt.imshow(X_train[1])"
   ]
  },
  {
   "cell_type": "code",
   "execution_count": 40,
   "metadata": {},
   "outputs": [
    {
     "data": {
      "image/png": "[encoded data removed]",
      "text/plain": [
       "<Figure size 432x288 with 9 Axes>"
      ]
     },
     "metadata": {
      "needs_background": "light"
     },
     "output_type": "display_data"
    }
   ],
   "source": [
    "for i in range(0,9):\n",
    "    plt.subplot(330 + 1 + i)\n",
    "    plt.imshow(X_train[i+5])\n",
    "    \n",
    "plt.show()"
   ]
  },
  {
   "cell_type": "markdown",
   "metadata": {},
   "source": [
    "## Load packages for model building"
   ]
  },
  {
   "cell_type": "code",
   "execution_count": 15,
   "metadata": {},
   "outputs": [],
   "source": [
    "from keras.models import Sequential\n",
    "from keras.layers import Dense\n",
    "from keras.layers import Dropout\n",
    "from keras.layers import Flatten\n",
    "from keras.constraints import maxnorm\n",
    "from keras.optimizers import SGD\n",
    "from keras.layers.convolutional import Conv2D\n",
    "from keras.layers.convolutional import MaxPooling2D\n",
    "from keras.utils import np_utils"
   ]
  },
  {
   "cell_type": "markdown",
   "metadata": {},
   "source": [
    "## Normalize the pizel values between 0,1\n",
    "\n",
    "Normalize the inputs because if the inputs vary a lot then it affects weights update. The scale of weights will vary a lot as well if inputs vary. "
   ]
  },
  {
   "cell_type": "code",
   "execution_count": 16,
   "metadata": {},
   "outputs": [],
   "source": [
    "X_train = X_train.astype('float32')\n",
    "X_test = X_test.astype('float32')\n",
    "X_train = X_train/255\n",
    "X_test = X_test/255\n",
    "\n",
    "# Check out normalization\n",
    "#X_train = normalize(X_train, axis=1)\n",
    "#X_test = normalize(X_test, axis=1)"
   ]
  },
  {
   "cell_type": "markdown",
   "metadata": {},
   "source": [
    "## Check how a single image appears to the computer\n",
    "\n",
    "These are nested lists: there are 32 lists, each for one row of image: containing 32 lists (for each column in that row) each containg 3 elements (for each row, each column: i.e., each pixel)"
   ]
  },
  {
   "cell_type": "code",
   "execution_count": 17,
   "metadata": {},
   "outputs": [
    {
     "data": {
      "text/plain": [
       "array([[[0.6039216 , 0.69411767, 0.73333335],\n",
       "        [0.49411765, 0.5372549 , 0.53333336],\n",
       "        [0.4117647 , 0.40784314, 0.37254903],\n",
       "        ...,\n",
       "        [0.35686275, 0.37254903, 0.2784314 ],\n",
       "        [0.34117648, 0.3529412 , 0.2784314 ],\n",
       "        [0.30980393, 0.31764707, 0.27450982]],\n",
       "\n",
       "       [[0.54901963, 0.627451  , 0.6627451 ],\n",
       "        [0.5686275 , 0.6       , 0.6039216 ],\n",
       "        [0.49019608, 0.49019608, 0.4627451 ],\n",
       "        ...,\n",
       "        [0.3764706 , 0.3882353 , 0.30588236],\n",
       "        [0.3019608 , 0.3137255 , 0.24313726],\n",
       "        [0.2784314 , 0.28627452, 0.23921569]],\n",
       "\n",
       "       [[0.54901963, 0.60784316, 0.6431373 ],\n",
       "        [0.54509807, 0.57254905, 0.58431375],\n",
       "        [0.4509804 , 0.4509804 , 0.4392157 ],\n",
       "        ...,\n",
       "        [0.30980393, 0.32156864, 0.2509804 ],\n",
       "        [0.26666668, 0.27450982, 0.21568628],\n",
       "        [0.2627451 , 0.27058825, 0.21568628]],\n",
       "\n",
       "       ...,\n",
       "\n",
       "       [[0.6862745 , 0.654902  , 0.6509804 ],\n",
       "        [0.6117647 , 0.6039216 , 0.627451  ],\n",
       "        [0.6039216 , 0.627451  , 0.6666667 ],\n",
       "        ...,\n",
       "        [0.16470589, 0.13333334, 0.14117648],\n",
       "        [0.23921569, 0.20784314, 0.22352941],\n",
       "        [0.3647059 , 0.3254902 , 0.35686275]],\n",
       "\n",
       "       [[0.64705884, 0.6039216 , 0.5019608 ],\n",
       "        [0.6117647 , 0.59607846, 0.50980395],\n",
       "        [0.62352943, 0.6313726 , 0.5568628 ],\n",
       "        ...,\n",
       "        [0.40392157, 0.3647059 , 0.3764706 ],\n",
       "        [0.48235294, 0.44705883, 0.47058824],\n",
       "        [0.5137255 , 0.4745098 , 0.5137255 ]],\n",
       "\n",
       "       [[0.6392157 , 0.5803922 , 0.47058824],\n",
       "        [0.61960787, 0.5803922 , 0.47843137],\n",
       "        [0.6392157 , 0.6117647 , 0.52156866],\n",
       "        ...,\n",
       "        [0.56078434, 0.52156866, 0.54509807],\n",
       "        [0.56078434, 0.5254902 , 0.5568628 ],\n",
       "        [0.56078434, 0.52156866, 0.5647059 ]]], dtype=float32)"
      ]
     },
     "execution_count": 17,
     "metadata": {},
     "output_type": "execute_result"
    }
   ],
   "source": [
    "X_train[1]"
   ]
  },
  {
   "cell_type": "markdown",
   "metadata": {},
   "source": [
    "## Check the label column"
   ]
  },
  {
   "cell_type": "code",
   "execution_count": 18,
   "metadata": {},
   "outputs": [
    {
     "data": {
      "text/plain": [
       "array([[6],\n",
       "       [9],\n",
       "       [9],\n",
       "       ...,\n",
       "       [9],\n",
       "       [1],\n",
       "       [1]], dtype=uint8)"
      ]
     },
     "execution_count": 18,
     "metadata": {},
     "output_type": "execute_result"
    }
   ],
   "source": [
    "y_train"
   ]
  },
  {
   "cell_type": "markdown",
   "metadata": {},
   "source": [
    "## One hot encode the target labels\n",
    "\n",
    "Next, we transform each of the target labels for a given sample into an array of 1s and 0s where the index of the number 1 indicates the digit the the image represents. We do this because otherwise our model would interpret the digit 9 as having a higher priority than the number 3"
   ]
  },
  {
   "cell_type": "code",
   "execution_count": 19,
   "metadata": {},
   "outputs": [],
   "source": [
    "y_train = np_utils.to_categorical(y_train)\n",
    "y_test = np_utils.to_categorical(y_test)\n",
    "num_class = y_test.shape[1]"
   ]
  },
  {
   "cell_type": "code",
   "execution_count": 22,
   "metadata": {},
   "outputs": [
    {
     "data": {
      "text/plain": [
       "array([[0., 0., 0., ..., 0., 0., 0.],\n",
       "       [0., 0., 0., ..., 0., 1., 0.],\n",
       "       [0., 0., 0., ..., 0., 1., 0.],\n",
       "       ...,\n",
       "       [0., 0., 0., ..., 0., 0., 0.],\n",
       "       [0., 1., 0., ..., 0., 0., 0.],\n",
       "       [0., 0., 0., ..., 1., 0., 0.]])"
      ]
     },
     "execution_count": 22,
     "metadata": {},
     "output_type": "execute_result"
    }
   ],
   "source": [
    "y_test"
   ]
  },
  {
   "cell_type": "code",
   "execution_count": 46,
   "metadata": {},
   "outputs": [
    {
     "data": {
      "text/plain": [
       "10"
      ]
     },
     "execution_count": 46,
     "metadata": {},
     "output_type": "execute_result"
    }
   ],
   "source": [
    "num_class"
   ]
  },
  {
   "cell_type": "markdown",
   "metadata": {},
   "source": [
    "## Create your model"
   ]
  },
  {
   "cell_type": "markdown",
   "metadata": {},
   "source": [
    "1. Use weight regularization methods - to not overfit, force model to use smaller weights, more stable, sparse weight matrix network, more generalized. Weight constraint is just a pre-defined threshold. Can use it instead of weight decays (weight penalty). \n",
    "2. Weight penalties encourage but do not require neural networks to have small weights.\n",
    "3. Weight constraints, such as the L2 norm and maximum norm, can be used to force neural networks to have small weights during training.\n",
    "4. Weight constraints can improve generalization when used in conjunction with other regularization methods like dropout.\n",
    "\n",
    "P.S: Large weights in a neural network are a sign of overfitting\n",
    "\n",
    "Max norm is less aggressive, simply puts an upper bound. It typically improves the performance of stochastic gradient descent training of deep neural nets\n",
    "\n",
    "Some examples of constraints that could be used include:\n",
    "\n",
    "> a. Force the vector norm to be 1.0 (e.g. the unit norm)\n",
    "> b. Limit the maximum size of the vector norm (e.g. the maximum norm)\n",
    "> c. Limit the minimum and maximum size of the vector norm (e.g. the min_max norm).\n",
    "\n",
    "Given that weights are small, the hyperparameter too is often a small integer value, such as a value between 1 and 4.\n",
    "\n",
    "Using a constraint rather than a penalty prevents weights from growing very large no matter how large the proposed weight-update is. This makes it possible to start with a very large learning rate which decays during learning, thus allowing a far more thorough search of the weight-space than methods that start with small weights and use a small learning rate.\n",
    "\n",
    "Explore the use of other weight constraints, such as a minimum and maximum range, non-negative weights, and more.\n",
    "\n",
    "You may also choose to use constraints on some weights and not others, such as not using constraints on bias weights in an MLP or not using constraints on recurrent connections in an LSTM\n",
    "\n",
    "Bias - The bias term determines the distance from the origin the linear decision boundary of the node implements. It is included in every sum, but it does not receive any inputs."
   ]
  },
  {
   "cell_type": "code",
   "execution_count": 76,
   "metadata": {},
   "outputs": [
    {
     "name": "stdout",
     "output_type": "stream",
     "text": [
      "_________________________________________________________________\n",
      "Layer (type)                 Output Shape              Param #   \n",
      "=================================================================\n",
      "conv2d_5 (Conv2D)            (None, 32, 32, 32)        896       \n",
      "_________________________________________________________________\n",
      "dropout_5 (Dropout)          (None, 32, 32, 32)        0         \n",
      "_________________________________________________________________\n",
      "conv2d_6 (Conv2D)            (None, 32, 32, 32)        9248      \n",
      "_________________________________________________________________\n",
      "max_pooling2d_3 (MaxPooling2 (None, 16, 16, 32)        0         \n",
      "_________________________________________________________________\n",
      "flatten_3 (Flatten)          (None, 8192)              0         \n",
      "_________________________________________________________________\n",
      "dense_5 (Dense)              (None, 512)               4194816   \n",
      "_________________________________________________________________\n",
      "dropout_6 (Dropout)          (None, 512)               0         \n",
      "_________________________________________________________________\n",
      "dense_6 (Dense)              (None, 10)                5130      \n",
      "=================================================================\n",
      "Total params: 4,210,090\n",
      "Trainable params: 4,210,090\n",
      "Non-trainable params: 0\n",
      "_________________________________________________________________\n"
     ]
    }
   ],
   "source": [
    "#Instantiate your model\n",
    "model = Sequential()\n",
    "\n",
    "#Create first Convolutional layer\n",
    "layer1 = Conv2D(32, (3,3), input_shape = (32, 32, 3), padding = 'same', \n",
    "                 activation = 'relu', kernel_constraint = maxnorm(3))\n",
    "\n",
    "#Add this layer sequence to the model\n",
    "model.add(layer1)\n",
    "\n",
    "#Create a dropout layer function\n",
    "dropout1 = Dropout(0.2)\n",
    "\n",
    "model.add(dropout1)\n",
    "\n",
    "#Create second Convolutional layer\n",
    "layer2 = Conv2D(32, (3,3), activation = 'relu', padding = 'same', kernel_constraint = maxnorm(3))\n",
    "\n",
    "#Add the second Conv layer to the model sequence\n",
    "model.add(layer2)\n",
    "\n",
    "# Create a max pooling layer\n",
    "layer3 = MaxPooling2D(pool_size = (2,2))\n",
    "\n",
    "#Add max pooling layer to the model\n",
    "model.add(layer3)\n",
    "\n",
    "#Flatten the output\n",
    "layer4 = Flatten()\n",
    "\n",
    "model.add(layer4)\n",
    "\n",
    "#Make a full dense layer\n",
    "layer5 = Dense(512, activation = 'relu', kernel_constraint = maxnorm(3))\n",
    "\n",
    "model.add(layer5)\n",
    "\n",
    "# Drop values\n",
    "layer6 = Dropout(0.5)\n",
    "\n",
    "model.add(layer6)\n",
    "\n",
    "\n",
    "layer7 = Dense(num_class, activation = 'softmax')\n",
    "model.add(layer7)\n",
    "\n",
    "epochs = 4\n",
    "lrate = 0.02\n",
    "decay = lrate/epochs\n",
    "\n",
    "sgd = SGD(lr = lrate, momentum = 0.9, decay = decay, nesterov = False)\n",
    "\n",
    "\n",
    "#Since we’re trying to predict classes, we use categorical crossentropy as our loss function. \n",
    "#We will measure the performance of the model using accuracy.\n",
    "\n",
    "model.compile(loss = 'categorical_crossentropy', optimizer = sgd, metrics = ['accuracy'])\n",
    "\n",
    "model.summary()"
   ]
  },
  {
   "cell_type": "code",
   "execution_count": 78,
   "metadata": {
    "scrolled": true
   },
   "outputs": [
    {
     "data": {
      "text/plain": [
       "[array([[[[-0.11219192,  0.10716294,  0.08982538,  0.13423233,\n",
       "            0.09395452, -0.10404713, -0.06506576,  0.06800285,\n",
       "           -0.03781255,  0.08658797, -0.12183592,  0.02665618,\n",
       "           -0.06311767, -0.05513524, -0.00259149,  0.06665087,\n",
       "            0.08404475, -0.01371209, -0.01860975,  0.08980396,\n",
       "            0.06115371,  0.0239951 , -0.11568865, -0.01047158,\n",
       "            0.12548058, -0.09163179, -0.0671549 ,  0.05685754,\n",
       "            0.0252959 , -0.061477  , -0.12841153, -0.01175767],\n",
       "          [ 0.11459522, -0.12370028, -0.07858668, -0.07941733,\n",
       "           -0.07089714,  0.09659743, -0.08066034,  0.03823756,\n",
       "            0.03505555,  0.00425503, -0.05690943, -0.01643935,\n",
       "            0.04235518, -0.00816256,  0.13130845, -0.12624599,\n",
       "           -0.04746718,  0.04681401,  0.11632444,  0.0597994 ,\n",
       "            0.02539073,  0.1065661 , -0.10361908,  0.04821576,\n",
       "            0.04669058,  0.00906484,  0.0693595 , -0.07847299,\n",
       "            0.07375111,  0.06389685, -0.01877651, -0.03478396],\n",
       "          [-0.1254669 , -0.02150812, -0.13514285, -0.09708104,\n",
       "            0.1119422 , -0.13204779,  0.03282022,  0.09103796,\n",
       "           -0.09149727,  0.13179772,  0.06754571,  0.03982502,\n",
       "           -0.11450346, -0.04834985,  0.02855749, -0.08615586,\n",
       "           -0.12277683, -0.09876047,  0.12184532,  0.01247974,\n",
       "           -0.10223516, -0.01266009, -0.01227665,  0.08306915,\n",
       "            0.08884692,  0.0790129 , -0.07801124, -0.09452604,\n",
       "           -0.07297515,  0.13368993,  0.09856923,  0.04810056]],\n",
       " \n",
       "         [[-0.09954368, -0.09030902, -0.08196644, -0.10211872,\n",
       "           -0.07817672, -0.07439049, -0.1337824 ,  0.12009479,\n",
       "            0.08868477,  0.13578825, -0.01436075, -0.06175046,\n",
       "           -0.10001625,  0.11051413,  0.02173091,  0.11722697,\n",
       "            0.03290203, -0.0758978 ,  0.08918804,  0.05139431,\n",
       "           -0.00605513,  0.02888046,  0.13365637,  0.04302433,\n",
       "            0.09283933,  0.04497325, -0.10671104, -0.04649668,\n",
       "            0.02778725,  0.05266181, -0.1216507 , -0.03262441],\n",
       "          [-0.0540342 ,  0.10939366, -0.12391169,  0.06628387,\n",
       "           -0.05828272,  0.0593603 ,  0.05153695, -0.06881074,\n",
       "            0.09274352,  0.03361218, -0.06165205,  0.05132887,\n",
       "           -0.13236828,  0.00394924,  0.01992279,  0.099967  ,\n",
       "            0.05133475, -0.01633583, -0.04112611,  0.04191728,\n",
       "           -0.0477647 , -0.13132246,  0.12133454, -0.05803751,\n",
       "           -0.0698071 ,  0.09281693, -0.11826192, -0.08595004,\n",
       "            0.03637251,  0.11669357, -0.07736104,  0.0775865 ],\n",
       "          [ 0.12207349,  0.02929209,  0.11453821,  0.09503245,\n",
       "            0.07284406,  0.07096644,  0.11627237, -0.00674155,\n",
       "            0.03864123, -0.07393488,  0.08193998, -0.0724181 ,\n",
       "           -0.02501012, -0.01077524, -0.04594371, -0.11121882,\n",
       "           -0.10610671,  0.0961291 ,  0.12589432, -0.11142566,\n",
       "           -0.02733133,  0.10863052, -0.03726768,  0.00658809,\n",
       "           -0.05869272, -0.02913254,  0.12213175, -0.00908063,\n",
       "            0.045203  ,  0.03486152,  0.05359927,  0.03978744]],\n",
       " \n",
       "         [[ 0.06795415,  0.1162246 , -0.05582403, -0.1113565 ,\n",
       "            0.06663813,  0.11471184,  0.04508187, -0.06007189,\n",
       "           -0.02849626, -0.06513506, -0.1365061 , -0.09232628,\n",
       "           -0.10091317,  0.09207156,  0.12895791,  0.03265718,\n",
       "            0.03930809,  0.09089193,  0.11946319,  0.02777004,\n",
       "           -0.03388453, -0.05490848, -0.11383227, -0.02277555,\n",
       "           -0.01572584, -0.03672094, -0.03793035, -0.01137258,\n",
       "            0.10966317,  0.07781391,  0.00039288,  0.02364691],\n",
       "          [-0.06094838, -0.12472937, -0.10144377, -0.02294175,\n",
       "            0.03207292,  0.05661625,  0.11935328, -0.05029983,\n",
       "           -0.03602552, -0.08085001, -0.03864466,  0.0425707 ,\n",
       "           -0.13675371,  0.10312524, -0.12150578,  0.1050944 ,\n",
       "            0.08000742, -0.00683786, -0.01004438, -0.03836335,\n",
       "           -0.05784476, -0.1096876 , -0.13569015,  0.13276623,\n",
       "           -0.0808788 ,  0.08996733, -0.07218388, -0.046984  ,\n",
       "            0.11178732,  0.05995017,  0.1036502 , -0.0622706 ],\n",
       "          [-0.11256795, -0.01810987,  0.10673432, -0.11865   ,\n",
       "           -0.06754202,  0.04829825,  0.08626077,  0.09211878,\n",
       "            0.0512007 , -0.00603226,  0.07080376,  0.02375653,\n",
       "            0.11753692,  0.0212587 , -0.03825914, -0.04829089,\n",
       "           -0.00337459, -0.11424153, -0.05327933,  0.05798009,\n",
       "           -0.07558355, -0.10636298, -0.00486913,  0.08358796,\n",
       "           -0.08631463, -0.1366271 , -0.01940572,  0.07762119,\n",
       "           -0.08053771,  0.05119757,  0.0654545 ,  0.05133949]]],\n",
       " \n",
       " \n",
       "        [[[-0.01714148,  0.09645726, -0.02182943,  0.12956877,\n",
       "            0.12226777,  0.05743752,  0.11519434,  0.10251223,\n",
       "            0.0466568 , -0.04113075, -0.12183002,  0.0404975 ,\n",
       "            0.1288081 , -0.02706964, -0.04203665,  0.06648126,\n",
       "           -0.06275055,  0.04832754, -0.05495123,  0.13413112,\n",
       "           -0.06073598, -0.06852647,  0.10149835,  0.07577647,\n",
       "            0.04546702, -0.11500539, -0.13158628, -0.07981124,\n",
       "            0.12618531, -0.02412415,  0.06239724, -0.05354774],\n",
       "          [-0.07957491, -0.03434151,  0.11841284,  0.00560209,\n",
       "           -0.07234745, -0.06265963,  0.0571454 , -0.05679986,\n",
       "           -0.04998454,  0.08997892,  0.09706061, -0.04118162,\n",
       "            0.13180219, -0.13375084, -0.09711187,  0.1279191 ,\n",
       "            0.11942287,  0.01902942,  0.01682548,  0.03616524,\n",
       "            0.07627614, -0.0308128 ,  0.00546797,  0.02237368,\n",
       "            0.08479531, -0.02836718, -0.05653995, -0.00622933,\n",
       "            0.102731  , -0.07093573, -0.10613087,  0.08965576],\n",
       "          [-0.06571525,  0.11508657, -0.08801617, -0.10060021,\n",
       "            0.09392016, -0.08249802,  0.04914533, -0.11116493,\n",
       "           -0.13374335, -0.08857891, -0.12702468,  0.13414885,\n",
       "            0.03171495, -0.1055139 , -0.00906816,  0.00046298,\n",
       "            0.0412598 ,  0.02082814, -0.13175538, -0.13145697,\n",
       "            0.00846484,  0.04068926, -0.02607456,  0.05204675,\n",
       "            0.09353021, -0.08352212, -0.06691144,  0.08775856,\n",
       "           -0.08334246,  0.1116893 ,  0.0556531 ,  0.05514807]],\n",
       " \n",
       "         [[-0.08503643,  0.09558916, -0.02095696,  0.01803935,\n",
       "           -0.01495142, -0.02762319, -0.01603304, -0.03725287,\n",
       "           -0.01785001,  0.08491492,  0.00725326, -0.12425347,\n",
       "            0.0642363 ,  0.11884136, -0.10797213,  0.06966001,\n",
       "           -0.00194353,  0.0404643 ,  0.10173763,  0.01944739,\n",
       "            0.11075598,  0.12441222, -0.03404445, -0.01649463,\n",
       "           -0.02823421, -0.10084789, -0.09758054, -0.08135135,\n",
       "            0.02991962,  0.05270162,  0.04462206,  0.01676057],\n",
       "          [ 0.10898478,  0.11729689,  0.07876325,  0.01306768,\n",
       "           -0.02794349, -0.04525719,  0.11963274,  0.06161658,\n",
       "            0.07969055, -0.08950453, -0.04111361, -0.10739323,\n",
       "            0.01310875, -0.08093846, -0.08925053, -0.10018098,\n",
       "            0.05083598, -0.05955087,  0.12117089,  0.1154681 ,\n",
       "           -0.04250637,  0.00702026,  0.00884879,  0.00167266,\n",
       "           -0.06040791, -0.10858399,  0.00574756,  0.0504383 ,\n",
       "            0.08514647, -0.10885645, -0.00303863, -0.00511013],\n",
       "          [-0.12464862, -0.13286774,  0.10640977,  0.04232273,\n",
       "           -0.05382331, -0.02700149, -0.07374598, -0.01719024,\n",
       "           -0.01056039,  0.03766076, -0.03890099, -0.09320007,\n",
       "            0.06694724, -0.07275844,  0.06884088, -0.08378293,\n",
       "            0.09679714,  0.00061163, -0.02004322, -0.07030241,\n",
       "           -0.08044739,  0.0332955 ,  0.07123375, -0.04565066,\n",
       "           -0.06711831, -0.08640996,  0.0168712 , -0.11965281,\n",
       "            0.0117223 ,  0.0904558 ,  0.08384064, -0.05763417]],\n",
       " \n",
       "         [[-0.1319134 ,  0.07972302, -0.12078664,  0.02755281,\n",
       "            0.12868215, -0.11651815, -0.0385849 , -0.12414291,\n",
       "            0.01463357,  0.11782621, -0.10134229, -0.02156392,\n",
       "           -0.1289032 ,  0.12897937,  0.07634747, -0.03830422,\n",
       "           -0.1145511 ,  0.01531729,  0.07319811, -0.01448999,\n",
       "            0.02192324, -0.03936534, -0.0651473 ,  0.05200894,\n",
       "            0.0608107 , -0.00017209,  0.02507533,  0.03704251,\n",
       "            0.02085018,  0.10354133,  0.10575402, -0.08198325],\n",
       "          [ 0.12488578, -0.10013303, -0.04865956, -0.0107265 ,\n",
       "            0.0684188 , -0.07762694,  0.01726121,  0.078547  ,\n",
       "            0.10843414, -0.04828075, -0.02284876, -0.00919406,\n",
       "            0.07976945, -0.0952481 , -0.03611157,  0.04439008,\n",
       "            0.01073273,  0.04260463,  0.12855808, -0.0718473 ,\n",
       "           -0.08974977,  0.12654929, -0.00080644, -0.05355959,\n",
       "            0.03744902,  0.09487559,  0.1326568 , -0.0847293 ,\n",
       "            0.10230424, -0.00968213, -0.09766728,  0.04219227],\n",
       "          [-0.02074979, -0.01798911,  0.05240051, -0.08535048,\n",
       "           -0.04731299, -0.06002405,  0.11809491,  0.09575251,\n",
       "           -0.05967157,  0.07622829, -0.02857865, -0.06817633,\n",
       "            0.10855819,  0.08327182,  0.08106899, -0.1366928 ,\n",
       "           -0.11180693, -0.09687054, -0.085331  , -0.03451546,\n",
       "           -0.05682737, -0.01248974,  0.03364147, -0.02532867,\n",
       "           -0.11966317,  0.01959467,  0.01215997, -0.12603563,\n",
       "           -0.09852731, -0.08675351,  0.13208194, -0.08711708]]],\n",
       " \n",
       " \n",
       "        [[[-0.06556848,  0.11807229,  0.11251836,  0.0780607 ,\n",
       "            0.13479875,  0.10241446,  0.12060533, -0.04855495,\n",
       "            0.09870693,  0.11496402,  0.08944608, -0.07924518,\n",
       "           -0.1055831 , -0.03792575, -0.09572476, -0.04732115,\n",
       "           -0.04617734,  0.03412998, -0.0500005 , -0.0259536 ,\n",
       "           -0.07656507, -0.02814951,  0.11913799,  0.03108653,\n",
       "            0.08588508,  0.02732728, -0.06301618,  0.02978094,\n",
       "            0.04774931,  0.08738752, -0.01016554, -0.05895849],\n",
       "          [ 0.10210627, -0.08171175,  0.04709914,  0.1175022 ,\n",
       "           -0.09915263, -0.01217014,  0.06570829,  0.1023113 ,\n",
       "            0.00568451, -0.02552173, -0.1077953 ,  0.09111577,\n",
       "            0.08130291,  0.04768132, -0.13095155, -0.01142952,\n",
       "            0.00964423,  0.01696165, -0.03517069,  0.02892609,\n",
       "            0.00510667, -0.00658163, -0.05901305, -0.13474809,\n",
       "           -0.08892356, -0.1150324 , -0.11066099, -0.04439791,\n",
       "            0.1238081 ,  0.0274433 , -0.09554464,  0.1042092 ],\n",
       "          [-0.11017689, -0.07462315,  0.11078155, -0.04015914,\n",
       "           -0.12006247, -0.07704552,  0.046864  ,  0.12590285,\n",
       "            0.0261357 ,  0.00071795,  0.11563216, -0.08241566,\n",
       "            0.08752891,  0.03969327, -0.02330361, -0.02888902,\n",
       "           -0.12113169,  0.13679947, -0.11668982, -0.03173456,\n",
       "           -0.03385844, -0.01503306, -0.03483828,  0.02648245,\n",
       "            0.08842906,  0.0134709 , -0.05148618,  0.00807753,\n",
       "           -0.00389946,  0.12172617, -0.05789299,  0.05260548]],\n",
       " \n",
       "         [[ 0.08025199,  0.08442329, -0.06824853, -0.10926062,\n",
       "            0.06537418, -0.10578613, -0.0128208 ,  0.00791784,\n",
       "            0.01487078, -0.04102684, -0.07448298, -0.07728747,\n",
       "           -0.07620706, -0.0153602 , -0.12559718,  0.07780963,\n",
       "           -0.08819027, -0.01198162,  0.00668845, -0.08817053,\n",
       "            0.09933591, -0.03269993,  0.013806  , -0.02051544,\n",
       "            0.03385709, -0.07485546, -0.06109405,  0.10113762,\n",
       "           -0.11473171,  0.12527217,  0.12536   ,  0.01904032],\n",
       "          [-0.01246841,  0.08324802, -0.05477209, -0.00456154,\n",
       "           -0.11080363,  0.00837715,  0.04765432, -0.02608752,\n",
       "            0.10413897,  0.13276882,  0.1068276 ,  0.03754452,\n",
       "            0.05194843, -0.12603964, -0.04398732, -0.07038553,\n",
       "           -0.00518396, -0.0632762 ,  0.02183348, -0.11110194,\n",
       "            0.0125491 , -0.1377125 ,  0.11210857,  0.04642975,\n",
       "           -0.1043773 ,  0.10221851,  0.13082556, -0.04364903,\n",
       "           -0.08954016,  0.0524956 ,  0.0575539 , -0.02586459],\n",
       "          [-0.03394412, -0.12988497, -0.04671912, -0.11634244,\n",
       "           -0.00866073,  0.12783773, -0.03929088,  0.04553875,\n",
       "           -0.06862887,  0.06015958,  0.02843463, -0.09761284,\n",
       "            0.03359596, -0.07513532, -0.11550791,  0.11149806,\n",
       "           -0.09757735, -0.05455315,  0.02756175, -0.11736374,\n",
       "           -0.04976943, -0.06594265,  0.02719332, -0.03838563,\n",
       "           -0.09937194,  0.0937428 ,  0.11090162, -0.11869214,\n",
       "            0.09924263, -0.04373477, -0.061001  ,  0.00399801]],\n",
       " \n",
       "         [[-0.07550168,  0.03014907,  0.09039076,  0.11023125,\n",
       "            0.0256235 , -0.06354411,  0.08621812, -0.04757816,\n",
       "            0.00638677,  0.04696761, -0.05907378,  0.00330372,\n",
       "           -0.06687866, -0.11258879, -0.04680543,  0.07035293,\n",
       "           -0.09006184,  0.01448789,  0.07615037, -0.1293118 ,\n",
       "           -0.13713455, -0.09458908,  0.03326848, -0.11703874,\n",
       "           -0.0165633 ,  0.07778278,  0.04802577,  0.12870185,\n",
       "           -0.08429989,  0.08639841, -0.04965058,  0.07605791],\n",
       "          [-0.07297383,  0.05412453,  0.06348787, -0.13083945,\n",
       "           -0.04856913, -0.12662542, -0.08434856, -0.08428475,\n",
       "            0.06400369,  0.12470762, -0.11452487, -0.01821993,\n",
       "            0.11843164, -0.06789704,  0.05663794, -0.01225306,\n",
       "            0.0499922 ,  0.02422185, -0.068716  , -0.05991042,\n",
       "           -0.1188009 , -0.10396853,  0.02577996,  0.13407327,\n",
       "            0.0506551 , -0.05373908, -0.09085109, -0.10924229,\n",
       "            0.04469965, -0.00365701,  0.01240748,  0.01330872],\n",
       "          [-0.10581689,  0.03917295, -0.11445535,  0.09344614,\n",
       "           -0.0649685 , -0.13315822,  0.00854892, -0.07273415,\n",
       "           -0.07498892,  0.05606262,  0.1035552 , -0.00642037,\n",
       "           -0.13354677,  0.00192471,  0.08974275,  0.04720661,\n",
       "           -0.09866774, -0.04841688, -0.01154445, -0.12828745,\n",
       "            0.0829687 ,  0.05746293,  0.01790331,  0.1363094 ,\n",
       "            0.09019282,  0.07626189,  0.11005011,  0.08594   ,\n",
       "           -0.10107207,  0.11183718,  0.06506564,  0.07201399]]]],\n",
       "       dtype=float32),\n",
       " array([0., 0., 0., 0., 0., 0., 0., 0., 0., 0., 0., 0., 0., 0., 0., 0., 0.,\n",
       "        0., 0., 0., 0., 0., 0., 0., 0., 0., 0., 0., 0., 0., 0., 0.],\n",
       "       dtype=float32)]"
      ]
     },
     "execution_count": 78,
     "metadata": {},
     "output_type": "execute_result"
    }
   ],
   "source": [
    "layer1.get_weights()"
   ]
  },
  {
   "cell_type": "markdown",
   "metadata": {},
   "source": [
    "# Compare Layer 1 weights before and after training"
   ]
  },
  {
   "cell_type": "markdown",
   "metadata": {},
   "source": [
    "## Before"
   ]
  },
  {
   "cell_type": "code",
   "execution_count": 88,
   "metadata": {},
   "outputs": [
    {
     "data": {
      "text/plain": [
       "array([[-0.11219192,  0.10716294,  0.08982538,  0.13423233,  0.09395452,\n",
       "        -0.10404713, -0.06506576,  0.06800285, -0.03781255,  0.08658797,\n",
       "        -0.12183592,  0.02665618, -0.06311767, -0.05513524, -0.00259149,\n",
       "         0.06665087,  0.08404475, -0.01371209, -0.01860975,  0.08980396,\n",
       "         0.06115371,  0.0239951 , -0.11568865, -0.01047158,  0.12548058,\n",
       "        -0.09163179, -0.0671549 ,  0.05685754,  0.0252959 , -0.061477  ,\n",
       "        -0.12841153, -0.01175767],\n",
       "       [ 0.11459522, -0.12370028, -0.07858668, -0.07941733, -0.07089714,\n",
       "         0.09659743, -0.08066034,  0.03823756,  0.03505555,  0.00425503,\n",
       "        -0.05690943, -0.01643935,  0.04235518, -0.00816256,  0.13130845,\n",
       "        -0.12624599, -0.04746718,  0.04681401,  0.11632444,  0.0597994 ,\n",
       "         0.02539073,  0.1065661 , -0.10361908,  0.04821576,  0.04669058,\n",
       "         0.00906484,  0.0693595 , -0.07847299,  0.07375111,  0.06389685,\n",
       "        -0.01877651, -0.03478396],\n",
       "       [-0.1254669 , -0.02150812, -0.13514285, -0.09708104,  0.1119422 ,\n",
       "        -0.13204779,  0.03282022,  0.09103796, -0.09149727,  0.13179772,\n",
       "         0.06754571,  0.03982502, -0.11450346, -0.04834985,  0.02855749,\n",
       "        -0.08615586, -0.12277683, -0.09876047,  0.12184532,  0.01247974,\n",
       "        -0.10223516, -0.01266009, -0.01227665,  0.08306915,  0.08884692,\n",
       "         0.0790129 , -0.07801124, -0.09452604, -0.07297515,  0.13368993,\n",
       "         0.09856923,  0.04810056]], dtype=float32)"
      ]
     },
     "execution_count": 88,
     "metadata": {},
     "output_type": "execute_result"
    }
   ],
   "source": [
    "layer1.get_weights()[0][0][0]"
   ]
  },
  {
   "cell_type": "markdown",
   "metadata": {},
   "source": [
    "## After"
   ]
  },
  {
   "cell_type": "code",
   "execution_count": 103,
   "metadata": {},
   "outputs": [
    {
     "data": {
      "text/plain": [
       "array([[-0.11136943,  0.25548318, -0.19432795,  0.11402513,  0.39184198,\n",
       "        -0.10356781, -0.16119042,  0.04571508, -0.02072244,  0.03408853,\n",
       "        -0.12173397,  0.03588555, -0.17668273,  0.27924114, -0.01909275,\n",
       "         0.04805809,  0.15431696,  0.15349475, -0.07780699,  0.06914344,\n",
       "         0.05682937,  0.02217084, -0.1331736 , -0.07499895,  0.08864163,\n",
       "        -0.1426157 , -0.07887597,  0.05250132, -0.03427654, -0.12243081,\n",
       "        -0.334545  , -0.01890305],\n",
       "       [ 0.11669713, -0.32924843, -0.32386732, -0.09269222, -0.14740576,\n",
       "         0.09649231, -0.10982803,  0.01504093,  0.0826292 , -0.0390553 ,\n",
       "        -0.05870343, -0.00592848, -0.10371166,  0.24079855,  0.11483805,\n",
       "        -0.14107925,  0.06514327, -0.01195281,  0.05624725,  0.07122061,\n",
       "         0.02137971,  0.0990123 , -0.10817807,  0.00964815,  0.01635396,\n",
       "        -0.05867165,  0.05146322, -0.07853323,  0.38020727,  0.00807562,\n",
       "        -0.10301042, -0.17903093],\n",
       "       [-0.1249242 , -0.1363189 , -0.33367717, -0.11834601,  0.24888138,\n",
       "        -0.13103011,  0.25448138,  0.07327348, -0.14188266,  0.10273241,\n",
       "         0.05910173,  0.04947537, -0.24414423,  0.24443409,  0.0096439 ,\n",
       "        -0.09587137, -0.07299262, -0.0972084 ,  0.06869213,  0.0236972 ,\n",
       "        -0.10287142, -0.0106146 ,  0.00382643,  0.07966033,  0.06734555,\n",
       "         0.06335123, -0.09257811, -0.09424488, -0.26900285,  0.0847773 ,\n",
       "         0.29830533,  0.31719023]], dtype=float32)"
      ]
     },
     "execution_count": 103,
     "metadata": {},
     "output_type": "execute_result"
    }
   ],
   "source": [
    "layer1.get_weights()[0][0][0]"
   ]
  },
  {
   "cell_type": "code",
   "execution_count": 89,
   "metadata": {},
   "outputs": [
    {
     "data": {
      "text/plain": [
       "array([0., 0., 0., 0., 0., 0., 0., 0., 0., 0., 0., 0., 0., 0., 0., 0., 0.,\n",
       "       0., 0., 0., 0., 0., 0., 0., 0., 0., 0., 0., 0., 0., 0., 0.],\n",
       "      dtype=float32)"
      ]
     },
     "execution_count": 89,
     "metadata": {},
     "output_type": "execute_result"
    }
   ],
   "source": [
    "layer1.get_weights()[1]"
   ]
  },
  {
   "cell_type": "code",
   "execution_count": 79,
   "metadata": {},
   "outputs": [
    {
     "data": {
      "text/plain": [
       "[]"
      ]
     },
     "execution_count": 79,
     "metadata": {},
     "output_type": "execute_result"
    }
   ],
   "source": [
    "dropout1.get_weights()"
   ]
  },
  {
   "cell_type": "markdown",
   "metadata": {},
   "source": [
    "# Compare Layer 2 weights before and after"
   ]
  },
  {
   "cell_type": "markdown",
   "metadata": {},
   "source": [
    "## Before"
   ]
  },
  {
   "cell_type": "code",
   "execution_count": 80,
   "metadata": {},
   "outputs": [
    {
     "data": {
      "text/plain": [
       "array([-0.05701238, -0.08758241,  0.02061531, -0.09010185,  0.0251801 ,\n",
       "       -0.08685729,  0.0137036 , -0.05970673, -0.07763033,  0.06969707,\n",
       "        0.00088055, -0.09449061,  0.09325342, -0.06239972, -0.01026367,\n",
       "        0.0530825 , -0.04592473,  0.06404959,  0.01254036, -0.05779439,\n",
       "       -0.10029057, -0.02820313,  0.06254883,  0.06372298, -0.01751598,\n",
       "       -0.07740453, -0.08675149,  0.04418929,  0.02264473,  0.07781336,\n",
       "        0.06512789, -0.09407972], dtype=float32)"
      ]
     },
     "execution_count": 80,
     "metadata": {},
     "output_type": "execute_result"
    }
   ],
   "source": [
    "layer2.get_weights()[0][0][0][0]"
   ]
  },
  {
   "cell_type": "markdown",
   "metadata": {},
   "source": [
    "## After"
   ]
  },
  {
   "cell_type": "code",
   "execution_count": 102,
   "metadata": {},
   "outputs": [
    {
     "data": {
      "text/plain": [
       "array([-0.05664434, -0.08761518,  0.02021814, -0.08967983,  0.02504029,\n",
       "       -0.08642846,  0.01369239, -0.0593608 , -0.07721626,  0.06943332,\n",
       "        0.00089093, -0.0939602 ,  0.09285155, -0.06210115, -0.01007376,\n",
       "        0.05279162, -0.0454438 ,  0.06376098,  0.01239621, -0.05743593,\n",
       "       -0.0998019 , -0.02783137,  0.06153622,  0.06333051, -0.01727342,\n",
       "       -0.07679355, -0.08562461,  0.04395558,  0.02245925,  0.07729218,\n",
       "        0.06395769, -0.09349492], dtype=float32)"
      ]
     },
     "execution_count": 102,
     "metadata": {},
     "output_type": "execute_result"
    }
   ],
   "source": [
    "layer2.get_weights()[0][0][0][0]"
   ]
  },
  {
   "cell_type": "code",
   "execution_count": 81,
   "metadata": {},
   "outputs": [
    {
     "data": {
      "image/png": "[encoded data removed]",
      "text/plain": [
       "<Figure size 432x288 with 31 Axes>"
      ]
     },
     "metadata": {
      "needs_background": "light"
     },
     "output_type": "display_data"
    }
   ],
   "source": [
    "x1w = layer1.get_weights()[0][:,:,0,:]\n",
    "for i in range(1,32):\n",
    "  plt.subplot(8,4,i)\n",
    "  plt.imshow(x1w[:,:,i],interpolation=\"nearest\",cmap=\"gray\")\n",
    "plt.show()"
   ]
  },
  {
   "cell_type": "code",
   "execution_count": 82,
   "metadata": {},
   "outputs": [
    {
     "data": {
      "text/plain": [
       "[<tf.Variable 'conv2d_5/kernel:0' shape=(3, 3, 3, 32) dtype=float32_ref>,\n",
       " <tf.Variable 'conv2d_5/bias:0' shape=(32,) dtype=float32_ref>]"
      ]
     },
     "execution_count": 82,
     "metadata": {},
     "output_type": "execute_result"
    }
   ],
   "source": [
    "layer1.weights"
   ]
  },
  {
   "cell_type": "code",
   "execution_count": 83,
   "metadata": {},
   "outputs": [
    {
     "data": {
      "text/plain": [
       "<tf.Tensor 'dense_6/Softmax:0' shape=(?, 10) dtype=float32>"
      ]
     },
     "execution_count": 83,
     "metadata": {},
     "output_type": "execute_result"
    }
   ],
   "source": [
    "layer7.output"
   ]
  },
  {
   "cell_type": "markdown",
   "metadata": {},
   "source": [
    "# Compare Layer 2 weights before and after training"
   ]
  },
  {
   "cell_type": "markdown",
   "metadata": {},
   "source": [
    "## Before"
   ]
  },
  {
   "cell_type": "code",
   "execution_count": 84,
   "metadata": {},
   "outputs": [
    {
     "data": {
      "text/plain": [
       "array([[[-0.05701238, -0.08758241,  0.02061531, ...,  0.07781336,\n",
       "          0.06512789, -0.09407972],\n",
       "        [-0.03775753, -0.04051994,  0.03152528, ..., -0.06662596,\n",
       "          0.09553783,  0.05593134],\n",
       "        [ 0.01679262,  0.03487591,  0.09897238, ..., -0.07789224,\n",
       "          0.08697337, -0.0503853 ],\n",
       "        ...,\n",
       "        [-0.06543226, -0.02843624,  0.01274771, ...,  0.07365516,\n",
       "         -0.09038959,  0.06817479],\n",
       "        [ 0.00153092, -0.07050453,  0.05938075, ..., -0.08559485,\n",
       "          0.04326123,  0.09583402],\n",
       "        [-0.08347061, -0.07904853, -0.05986879, ..., -0.01523045,\n",
       "         -0.08930529, -0.04516353]],\n",
       "\n",
       "       [[ 0.06316109,  0.01147981,  0.01374242, ..., -0.04821132,\n",
       "         -0.00828239,  0.04616597],\n",
       "        [-0.08917516,  0.06464656, -0.08720234, ...,  0.03917219,\n",
       "         -0.05100984,  0.09286146],\n",
       "        [ 0.06171748, -0.08332716, -0.08536324, ..., -0.05034656,\n",
       "          0.01766536, -0.03880017],\n",
       "        ...,\n",
       "        [-0.07012042, -0.04998764, -0.03114196, ..., -0.07808804,\n",
       "         -0.09459671, -0.03741842],\n",
       "        [ 0.01504447,  0.06025192, -0.07416591, ...,  0.08279975,\n",
       "          0.00499192,  0.01729263],\n",
       "        [ 0.00848981, -0.00136788,  0.09533662, ...,  0.01549949,\n",
       "         -0.09632602,  0.03106628]],\n",
       "\n",
       "       [[-0.05855997,  0.03420976,  0.06355424, ...,  0.00751618,\n",
       "         -0.07071409,  0.00638146],\n",
       "        [-0.03786559,  0.06566803, -0.04286151, ..., -0.01829424,\n",
       "         -0.00177184, -0.01613929],\n",
       "        [-0.08936946, -0.04670415, -0.02698254, ..., -0.076129  ,\n",
       "         -0.01579531, -0.03258666],\n",
       "        ...,\n",
       "        [-0.05423454, -0.00313593, -0.04186887, ..., -0.09291791,\n",
       "          0.03184213, -0.00923872],\n",
       "        [ 0.10109794,  0.03864892, -0.07800849, ...,  0.07486704,\n",
       "          0.02762823, -0.06025526],\n",
       "        [ 0.10183907, -0.00514865, -0.02997675, ...,  0.0224613 ,\n",
       "          0.08415148, -0.00085253]]], dtype=float32)"
      ]
     },
     "execution_count": 84,
     "metadata": {},
     "output_type": "execute_result"
    }
   ],
   "source": [
    "layer2.get_weights()[0][0]"
   ]
  },
  {
   "cell_type": "markdown",
   "metadata": {},
   "source": [
    "## After"
   ]
  },
  {
   "cell_type": "code",
   "execution_count": 100,
   "metadata": {},
   "outputs": [
    {
     "data": {
      "text/plain": [
       "array([[[-0.05664434, -0.08761518,  0.02021814, ...,  0.07729218,\n",
       "          0.06395769, -0.09349492],\n",
       "        [-0.04900265, -0.05240753,  0.0241527 , ..., -0.07138503,\n",
       "          0.01609399,  0.06692731],\n",
       "        [ 0.01315076, -0.0605198 ,  0.1070675 , ..., -0.07932245,\n",
       "          0.11701192, -0.09552355],\n",
       "        ...,\n",
       "        [-0.09269036, -0.01604217,  0.00121037, ...,  0.0488391 ,\n",
       "         -0.09752761,  0.05349865],\n",
       "        [-0.00746075, -0.16203927,  0.05794831, ..., -0.0931968 ,\n",
       "          0.01902437,  0.04337129],\n",
       "        [-0.0907164 , -0.12337177, -0.07294831, ..., -0.0288226 ,\n",
       "         -0.20383197, -0.04559672]],\n",
       "\n",
       "       [[ 0.06274468,  0.0106897 ,  0.01341904, ..., -0.04764152,\n",
       "         -0.00894815,  0.04593467],\n",
       "        [-0.0927486 ,  0.07853726, -0.08251979, ...,  0.03004363,\n",
       "         -0.03063309,  0.06777431],\n",
       "        [ 0.0537364 , -0.17396198, -0.0774583 , ..., -0.05212143,\n",
       "          0.01645187, -0.08852895],\n",
       "        ...,\n",
       "        [-0.11555195, -0.05226697, -0.0370946 , ..., -0.11001075,\n",
       "         -0.09102061, -0.04572748],\n",
       "        [-0.00108912, -0.0835555 , -0.0790698 , ...,  0.06684994,\n",
       "         -0.0290929 , -0.00412665],\n",
       "        [-0.00691079, -0.10681731,  0.060985  , ...,  0.0016797 ,\n",
       "         -0.2263316 ,  0.03319029]],\n",
       "\n",
       "       [[-0.05823084,  0.03326515,  0.06292686, ...,  0.00745075,\n",
       "         -0.07079691,  0.00628037],\n",
       "        [-0.05276166,  0.05015871, -0.07009644, ..., -0.02872699,\n",
       "          0.08555348, -0.03307214],\n",
       "        [-0.08956351, -0.13523568, -0.01500839, ..., -0.07598269,\n",
       "         -0.0229522 , -0.0813579 ],\n",
       "        ...,\n",
       "        [-0.07728645, -0.00649132, -0.04639988, ..., -0.11602242,\n",
       "          0.02638989, -0.02643039],\n",
       "        [ 0.08144247, -0.04351656, -0.07544441, ...,  0.05961524,\n",
       "          0.05523046, -0.07789878],\n",
       "        [ 0.07429371, -0.08381288, -0.04597008, ...,  0.00257051,\n",
       "         -0.03467563,  0.01019549]]], dtype=float32)"
      ]
     },
     "execution_count": 100,
     "metadata": {},
     "output_type": "execute_result"
    }
   ],
   "source": [
    "layer2.get_weights()[0][0]"
   ]
  },
  {
   "cell_type": "markdown",
   "metadata": {},
   "source": [
    "# Check layer 5 bias weights before and after training"
   ]
  },
  {
   "cell_type": "markdown",
   "metadata": {},
   "source": [
    "## Before"
   ]
  },
  {
   "cell_type": "code",
   "execution_count": 91,
   "metadata": {},
   "outputs": [
    {
     "data": {
      "text/plain": [
       "array([0., 0., 0., 0., 0., 0., 0., 0., 0., 0., 0., 0., 0., 0., 0., 0., 0.,\n",
       "       0., 0., 0., 0., 0., 0., 0., 0., 0., 0., 0., 0., 0., 0., 0., 0., 0.,\n",
       "       0., 0., 0., 0., 0., 0., 0., 0., 0., 0., 0., 0., 0., 0., 0., 0., 0.,\n",
       "       0., 0., 0., 0., 0., 0., 0., 0., 0., 0., 0., 0., 0., 0., 0., 0., 0.,\n",
       "       0., 0., 0., 0., 0., 0., 0., 0., 0., 0., 0., 0., 0., 0., 0., 0., 0.,\n",
       "       0., 0., 0., 0., 0., 0., 0., 0., 0., 0., 0., 0., 0., 0., 0., 0., 0.,\n",
       "       0., 0., 0., 0., 0., 0., 0., 0., 0., 0., 0., 0., 0., 0., 0., 0., 0.,\n",
       "       0., 0., 0., 0., 0., 0., 0., 0., 0., 0., 0., 0., 0., 0., 0., 0., 0.,\n",
       "       0., 0., 0., 0., 0., 0., 0., 0., 0., 0., 0., 0., 0., 0., 0., 0., 0.,\n",
       "       0., 0., 0., 0., 0., 0., 0., 0., 0., 0., 0., 0., 0., 0., 0., 0., 0.,\n",
       "       0., 0., 0., 0., 0., 0., 0., 0., 0., 0., 0., 0., 0., 0., 0., 0., 0.,\n",
       "       0., 0., 0., 0., 0., 0., 0., 0., 0., 0., 0., 0., 0., 0., 0., 0., 0.,\n",
       "       0., 0., 0., 0., 0., 0., 0., 0., 0., 0., 0., 0., 0., 0., 0., 0., 0.,\n",
       "       0., 0., 0., 0., 0., 0., 0., 0., 0., 0., 0., 0., 0., 0., 0., 0., 0.,\n",
       "       0., 0., 0., 0., 0., 0., 0., 0., 0., 0., 0., 0., 0., 0., 0., 0., 0.,\n",
       "       0., 0., 0., 0., 0., 0., 0., 0., 0., 0., 0., 0., 0., 0., 0., 0., 0.,\n",
       "       0., 0., 0., 0., 0., 0., 0., 0., 0., 0., 0., 0., 0., 0., 0., 0., 0.,\n",
       "       0., 0., 0., 0., 0., 0., 0., 0., 0., 0., 0., 0., 0., 0., 0., 0., 0.,\n",
       "       0., 0., 0., 0., 0., 0., 0., 0., 0., 0., 0., 0., 0., 0., 0., 0., 0.,\n",
       "       0., 0., 0., 0., 0., 0., 0., 0., 0., 0., 0., 0., 0., 0., 0., 0., 0.,\n",
       "       0., 0., 0., 0., 0., 0., 0., 0., 0., 0., 0., 0., 0., 0., 0., 0., 0.,\n",
       "       0., 0., 0., 0., 0., 0., 0., 0., 0., 0., 0., 0., 0., 0., 0., 0., 0.,\n",
       "       0., 0., 0., 0., 0., 0., 0., 0., 0., 0., 0., 0., 0., 0., 0., 0., 0.,\n",
       "       0., 0., 0., 0., 0., 0., 0., 0., 0., 0., 0., 0., 0., 0., 0., 0., 0.,\n",
       "       0., 0., 0., 0., 0., 0., 0., 0., 0., 0., 0., 0., 0., 0., 0., 0., 0.,\n",
       "       0., 0., 0., 0., 0., 0., 0., 0., 0., 0., 0., 0., 0., 0., 0., 0., 0.,\n",
       "       0., 0., 0., 0., 0., 0., 0., 0., 0., 0., 0., 0., 0., 0., 0., 0., 0.,\n",
       "       0., 0., 0., 0., 0., 0., 0., 0., 0., 0., 0., 0., 0., 0., 0., 0., 0.,\n",
       "       0., 0., 0., 0., 0., 0., 0., 0., 0., 0., 0., 0., 0., 0., 0., 0., 0.,\n",
       "       0., 0., 0., 0., 0., 0., 0., 0., 0., 0., 0., 0., 0., 0., 0., 0., 0.,\n",
       "       0., 0.], dtype=float32)"
      ]
     },
     "execution_count": 91,
     "metadata": {},
     "output_type": "execute_result"
    }
   ],
   "source": [
    "layer5.get_weights()[1]"
   ]
  },
  {
   "cell_type": "markdown",
   "metadata": {},
   "source": [
    "## After"
   ]
  },
  {
   "cell_type": "code",
   "execution_count": 99,
   "metadata": {},
   "outputs": [
    {
     "data": {
      "text/plain": [
       "array([-1.40353041e-02,  2.77744532e-02,  5.41415624e-03,  3.86766368e-03,\n",
       "       -8.32348131e-03, -1.51134860e-02,  1.20116295e-02,  9.12668358e-04,\n",
       "       -3.40944007e-02, -2.90977303e-02,  6.74744463e-03,  2.27369852e-02,\n",
       "       -1.83783453e-02, -1.07651604e-02, -3.80299077e-03, -2.25221198e-02,\n",
       "        1.53643973e-02,  5.28498460e-03,  5.46649471e-02, -2.34519807e-03,\n",
       "        1.49461403e-02,  2.52368283e-02,  1.47487521e-02,  4.67123277e-02,\n",
       "       -4.00565704e-03,  3.74795645e-02, -1.57522894e-02, -2.09537372e-02,\n",
       "        1.94596704e-02,  1.55168306e-02,  7.45296702e-02, -1.19805569e-02,\n",
       "       -1.57975126e-02,  3.85496253e-03, -1.17458859e-02,  2.32782532e-02,\n",
       "       -8.62979330e-03, -1.01524238e-02, -6.88519515e-03,  2.77626645e-02,\n",
       "       -1.06589096e-02, -9.44494549e-03, -9.48097929e-03, -1.00122392e-02,\n",
       "       -1.10896677e-02, -3.04628559e-03,  3.22205536e-02, -3.89374583e-03,\n",
       "        1.12206955e-02,  1.77933220e-02,  5.51410019e-02, -1.43982386e-02,\n",
       "        1.83653906e-02, -4.49713290e-04, -1.13209235e-02, -1.01462854e-02,\n",
       "        2.83113495e-02,  4.11594007e-03, -1.62602309e-02, -1.51745491e-02,\n",
       "       -3.02384812e-02,  6.53988682e-04, -5.98703139e-03, -1.78374033e-02,\n",
       "        1.46010946e-02,  7.33751617e-03, -2.05185730e-02,  3.08418609e-02,\n",
       "        3.13780196e-02, -9.76506807e-03,  4.13271300e-02, -8.89261439e-03,\n",
       "       -1.29321562e-02,  1.14750816e-03,  2.42814468e-03, -5.44779608e-03,\n",
       "       -8.68782867e-03, -1.34615740e-02,  5.97866923e-02,  1.28569314e-03,\n",
       "        1.89648140e-02, -6.62411889e-03,  3.10386419e-02, -2.01160312e-02,\n",
       "        5.41861169e-02,  6.59520179e-02, -1.50819989e-02,  5.29030636e-02,\n",
       "        4.02134396e-02,  3.63162197e-02, -1.51788723e-02, -1.23093519e-02,\n",
       "       -8.57472140e-03,  1.54535491e-02,  1.03351066e-03, -1.06037566e-02,\n",
       "        1.09353075e-02, -1.81867753e-03,  2.11445596e-02, -3.39642144e-03,\n",
       "        1.04948394e-02, -7.68290553e-03,  8.34428892e-03, -1.21977553e-02,\n",
       "       -7.38562131e-03, -1.79171674e-02, -1.62114706e-02,  1.16024762e-02,\n",
       "        2.85453219e-02, -2.97017433e-02,  8.28370452e-03, -1.34521220e-02,\n",
       "        4.65333782e-04, -2.42194906e-03,  2.74202577e-03, -1.56742297e-02,\n",
       "       -1.07102580e-02, -1.11042550e-02, -1.74603239e-02, -1.67070534e-02,\n",
       "        1.70325730e-02,  1.72972456e-02, -2.43114941e-02, -9.10681486e-03,\n",
       "       -1.12844473e-02,  6.06927730e-04,  3.98622779e-03, -1.58719942e-02,\n",
       "        9.18476656e-03, -4.82219923e-03, -1.24522746e-02, -1.44808693e-02,\n",
       "       -5.96593088e-03, -1.33863762e-02, -1.21875349e-02, -9.08292946e-04,\n",
       "        2.55686957e-02,  1.36484029e-02, -1.44752283e-02,  2.76229978e-02,\n",
       "       -6.21352810e-03, -1.56256892e-02, -3.36124632e-03,  5.43582961e-02,\n",
       "       -7.97716342e-03,  3.85942236e-02, -6.99894736e-03, -7.81690516e-03,\n",
       "       -6.44993549e-03, -2.10554767e-02,  2.70425313e-04,  2.15301886e-02,\n",
       "        9.02491063e-03,  2.09859461e-02, -1.11799017e-02,  2.41629966e-03,\n",
       "        2.71535106e-02, -3.24228546e-03,  1.31474072e-02, -6.49179984e-03,\n",
       "       -2.35904753e-02, -1.46686295e-02, -5.31595608e-04,  3.68715115e-02,\n",
       "        7.24234357e-02,  6.66120499e-02,  1.16090626e-02,  3.98257673e-02,\n",
       "       -5.45986986e-04,  3.88769642e-03,  4.93446318e-03,  5.94175979e-03,\n",
       "        6.15883879e-02, -1.69165172e-02,  9.53293685e-03, -1.48749435e-02,\n",
       "       -9.81949922e-03, -1.45474831e-02, -9.16974898e-03, -6.13716338e-03,\n",
       "       -1.44014359e-02,  1.25229573e-02,  8.78786761e-03,  1.39511600e-02,\n",
       "       -1.18210167e-02,  2.31262483e-03, -3.33854780e-02, -1.31862145e-02,\n",
       "       -7.84021430e-03, -7.70151755e-03, -1.33949649e-02, -3.47245159e-03,\n",
       "       -1.51571613e-02, -1.62724424e-02,  4.94776806e-03,  7.15939933e-03,\n",
       "       -1.45297954e-02,  1.35899084e-02, -3.25770816e-03,  3.19808908e-02,\n",
       "       -1.90526247e-03,  1.11725433e-02, -5.86954551e-03,  9.32278484e-03,\n",
       "       -1.39550073e-02,  9.88402683e-03, -1.62509512e-02, -2.51670688e-04,\n",
       "        4.62197146e-04, -3.62786767e-03, -7.78308697e-03, -7.80599471e-03,\n",
       "       -1.65050272e-02, -1.31807309e-02, -6.27057906e-03,  7.49177858e-02,\n",
       "        8.44235867e-02,  8.20448215e-04,  1.47681991e-02, -4.79965704e-03,\n",
       "        2.54236683e-02, -1.39825502e-02,  1.35112298e-03, -7.48353032e-03,\n",
       "       -1.02820667e-03, -1.83995664e-02, -3.27240862e-02,  2.33463235e-02,\n",
       "        4.18912098e-02,  1.25356559e-02, -1.02828285e-02, -1.85710266e-02,\n",
       "        3.50658298e-02,  3.19142197e-03,  1.09624676e-02, -1.40227738e-03,\n",
       "       -4.52240882e-03,  4.00038846e-02, -1.26865348e-02, -3.11868777e-03,\n",
       "       -4.71794121e-02, -1.72620043e-02, -3.65668326e-03,  1.73066184e-02,\n",
       "        1.24292064e-03,  1.07095791e-02,  8.31630081e-03, -4.12386667e-04,\n",
       "        5.93205774e-03,  4.00037318e-03,  6.43603504e-03,  8.36938340e-03,\n",
       "       -1.26028266e-02, -5.62636554e-03,  1.79263484e-02, -1.89222656e-02,\n",
       "       -1.34314606e-02, -2.76435241e-02, -8.95216875e-03, -4.57249489e-03,\n",
       "        3.58769558e-02, -5.00066252e-03,  1.28979133e-02, -9.72069521e-03,\n",
       "        1.48576451e-02, -4.41010389e-03, -1.20863635e-02,  1.09336048e-03,\n",
       "       -6.30595675e-03, -1.53000443e-03, -1.71985850e-03,  6.02856837e-02,\n",
       "        2.25363802e-02,  1.56743862e-02,  8.45915545e-03,  7.76467100e-03,\n",
       "        6.98524900e-03, -1.03888055e-02,  2.56334734e-03,  6.06508441e-02,\n",
       "        1.25132464e-02, -3.62599292e-03, -1.99339278e-02, -8.45403876e-03,\n",
       "       -6.85586641e-03,  5.71883284e-02,  5.90328593e-04,  1.10510020e-02,\n",
       "        2.60712532e-03, -6.79611694e-03,  5.52279525e-04,  5.07882517e-03,\n",
       "       -1.18884584e-02,  3.38600250e-03, -1.47945844e-02, -4.14839061e-03,\n",
       "        2.15277169e-02,  4.92207706e-02, -9.12077143e-04, -1.91107932e-02,\n",
       "       -1.52382087e-02,  6.59342185e-02, -4.99250926e-03,  5.00414781e-02,\n",
       "        3.78382318e-02,  1.20117851e-02, -3.09295915e-02,  7.20821843e-02,\n",
       "       -2.49122791e-02, -6.22092793e-03,  3.11821382e-02, -8.19712412e-03,\n",
       "        1.40663246e-02, -2.95873228e-02,  2.03336738e-02, -1.61825698e-02,\n",
       "        2.46829223e-02,  5.09470366e-02, -9.92095447e-04,  3.06200497e-02,\n",
       "       -6.65849447e-03, -8.23565479e-03, -1.68013871e-02,  3.26733142e-02,\n",
       "        4.04695515e-03, -5.31158224e-03,  6.15101587e-03,  2.20770482e-02,\n",
       "       -1.31032923e-02, -7.07665784e-03,  2.05711164e-02,  5.23907058e-02,\n",
       "       -3.65791656e-02, -7.83206150e-03,  8.85855965e-03,  1.78185999e-02,\n",
       "        2.18973625e-02, -4.48197965e-03, -9.62582324e-03, -2.85324594e-03,\n",
       "        1.11090429e-02,  3.10626030e-02,  2.25466099e-02, -8.51112977e-03,\n",
       "       -1.36824362e-02, -8.44664872e-03, -2.10013278e-02, -8.78872629e-03,\n",
       "        4.81131865e-04,  1.34397503e-02,  5.36069237e-02,  5.45191206e-02,\n",
       "        1.46414945e-03, -1.40245892e-02,  4.53381380e-03,  5.35735227e-02,\n",
       "       -1.14577329e-02, -1.10027511e-02, -1.96243394e-02,  1.50665129e-03,\n",
       "        2.71128733e-02,  6.22015353e-03, -2.34302729e-02, -1.43384002e-02,\n",
       "       -2.71362835e-03, -1.30136460e-02, -3.79133527e-03, -6.76927343e-03,\n",
       "       -1.72406866e-03,  1.27870087e-02,  2.13379674e-02,  1.68161036e-03,\n",
       "        7.93920178e-03, -9.40363854e-03,  5.20454021e-03, -1.20615745e-02,\n",
       "       -3.30953649e-03,  1.07950298e-02,  5.61782680e-02,  1.23344399e-02,\n",
       "        5.41856140e-02, -9.96845891e-04, -1.23579269e-02, -4.37456276e-03,\n",
       "        6.03883294e-03,  2.51527764e-02, -9.73834749e-03,  5.09070884e-03,\n",
       "       -5.39924440e-05,  6.15931675e-03,  6.12757308e-03, -9.00523551e-03,\n",
       "        2.69348752e-02, -3.63377249e-03, -3.81072488e-04,  6.27265219e-03,\n",
       "       -3.14757489e-02, -6.91866037e-03, -4.58671886e-04,  1.94818154e-03,\n",
       "        8.71254224e-03, -1.22312447e-02,  3.37769836e-02,  1.73784029e-02,\n",
       "        1.56142749e-02, -1.12729371e-02,  2.82709133e-02, -8.71071406e-03,\n",
       "       -2.82785762e-03, -8.71812180e-03,  2.15806370e-03,  2.35480666e-02,\n",
       "       -5.50179090e-03, -1.37614924e-02, -1.56356730e-02,  3.64863337e-03,\n",
       "       -1.11584291e-02, -9.78121068e-03,  1.24858618e-02, -1.42695503e-02,\n",
       "        1.61057934e-02, -1.47282779e-02,  3.48101719e-03, -4.98516392e-03,\n",
       "        3.80144976e-02,  5.53273186e-02, -1.36959236e-02,  3.65124606e-02,\n",
       "        4.57496243e-03, -3.25020705e-03,  5.39430752e-02, -1.00352261e-02,\n",
       "       -5.23453532e-03,  1.94454603e-02,  6.21454371e-03,  1.86198428e-02,\n",
       "        1.49876289e-02, -5.33005875e-03, -8.42691772e-03,  3.28304153e-03,\n",
       "       -1.41723081e-02, -4.29631770e-03, -2.60129813e-02,  1.73043907e-02,\n",
       "        7.84302205e-02, -3.93751031e-03, -2.90943421e-02,  2.81690415e-02,\n",
       "       -1.66853936e-03,  1.63969044e-02, -4.60903766e-03, -8.59687105e-03,\n",
       "       -2.29330850e-03, -1.14230076e-02, -3.00936424e-03, -8.69658403e-03,\n",
       "        7.63267791e-03, -9.14095994e-03,  1.21398782e-02, -3.59098008e-03,\n",
       "        1.29525242e-02, -6.77237846e-03,  1.66718662e-02, -1.39505751e-02,\n",
       "        2.48496514e-03, -8.09433963e-03, -5.26369410e-03,  2.14766688e-03,\n",
       "        1.49986818e-02,  6.59625279e-03,  2.52183732e-02,  3.46222520e-02,\n",
       "       -9.57529061e-03, -3.07649351e-03,  5.15113398e-03,  2.48320345e-02,\n",
       "        2.64720991e-02, -1.10821761e-02,  2.69059166e-02, -9.54613462e-03,\n",
       "        2.87060905e-02, -5.31549100e-03, -1.67045055e-03,  8.41239095e-03,\n",
       "       -6.30228594e-03, -1.68954879e-02,  1.84766613e-02, -1.26839839e-02,\n",
       "       -1.27501283e-02,  1.72211844e-02,  6.25127554e-02,  2.61462503e-03,\n",
       "        6.14668289e-03, -1.03859548e-02, -1.56091005e-02,  9.58466530e-03,\n",
       "        8.90446827e-03,  7.89750274e-03,  1.80937331e-02,  1.36575764e-02,\n",
       "       -1.45528209e-03, -1.55821405e-02,  2.02491134e-02,  1.76205765e-02,\n",
       "       -3.43567529e-03, -1.12235993e-02, -7.23872473e-03,  1.41104776e-02,\n",
       "        3.91755346e-03, -6.05109474e-03, -2.52532656e-03,  2.88677942e-02],\n",
       "      dtype=float32)"
      ]
     },
     "execution_count": 99,
     "metadata": {},
     "output_type": "execute_result"
    }
   ],
   "source": [
    "layer5.get_weights()[1]"
   ]
  },
  {
   "cell_type": "code",
   "execution_count": 90,
   "metadata": {},
   "outputs": [
    {
     "data": {
      "text/plain": [
       "2"
      ]
     },
     "execution_count": 90,
     "metadata": {},
     "output_type": "execute_result"
    }
   ],
   "source": [
    "len(layer5.get_weights())"
   ]
  },
  {
   "cell_type": "code",
   "execution_count": 93,
   "metadata": {},
   "outputs": [
    {
     "data": {
      "text/plain": [
       "(None, 8192)"
      ]
     },
     "execution_count": 93,
     "metadata": {},
     "output_type": "execute_result"
    }
   ],
   "source": [
    "layer5.input_shape"
   ]
  },
  {
   "cell_type": "code",
   "execution_count": 95,
   "metadata": {},
   "outputs": [
    {
     "data": {
      "text/plain": [
       "(None, 512)"
      ]
     },
     "execution_count": 95,
     "metadata": {},
     "output_type": "execute_result"
    }
   ],
   "source": [
    "layer5.output_shape"
   ]
  },
  {
   "cell_type": "code",
   "execution_count": 96,
   "metadata": {},
   "outputs": [
    {
     "data": {
      "text/plain": [
       "<tf.Tensor 'dense_5/Relu:0' shape=(?, 512) dtype=float32>"
      ]
     },
     "execution_count": 96,
     "metadata": {},
     "output_type": "execute_result"
    }
   ],
   "source": [
    "layer5.output"
   ]
  },
  {
   "cell_type": "markdown",
   "metadata": {},
   "source": [
    "# Check the output of each layer of the CNN model"
   ]
  },
  {
   "cell_type": "code",
   "execution_count": 104,
   "metadata": {},
   "outputs": [
    {
     "data": {
      "text/plain": [
       "<tf.Tensor 'conv2d_5/Relu:0' shape=(?, 32, 32, 32) dtype=float32>"
      ]
     },
     "execution_count": 104,
     "metadata": {},
     "output_type": "execute_result"
    }
   ],
   "source": [
    "model.layers[0].output"
   ]
  },
  {
   "cell_type": "code",
   "execution_count": 105,
   "metadata": {},
   "outputs": [
    {
     "data": {
      "text/plain": [
       "<tf.Tensor 'dropout_5/cond/Merge:0' shape=(?, 32, 32, 32) dtype=float32>"
      ]
     },
     "execution_count": 105,
     "metadata": {},
     "output_type": "execute_result"
    }
   ],
   "source": [
    "model.layers[1].output"
   ]
  },
  {
   "cell_type": "code",
   "execution_count": 106,
   "metadata": {},
   "outputs": [
    {
     "data": {
      "text/plain": [
       "<tf.Tensor 'conv2d_6/Relu:0' shape=(?, 32, 32, 32) dtype=float32>"
      ]
     },
     "execution_count": 106,
     "metadata": {},
     "output_type": "execute_result"
    }
   ],
   "source": [
    "model.layers[2].output"
   ]
  },
  {
   "cell_type": "code",
   "execution_count": 107,
   "metadata": {},
   "outputs": [
    {
     "data": {
      "text/plain": [
       "<tf.Tensor 'max_pooling2d_3/MaxPool:0' shape=(?, 16, 16, 32) dtype=float32>"
      ]
     },
     "execution_count": 107,
     "metadata": {},
     "output_type": "execute_result"
    }
   ],
   "source": [
    "model.layers[3].output"
   ]
  },
  {
   "cell_type": "code",
   "execution_count": 108,
   "metadata": {},
   "outputs": [
    {
     "data": {
      "text/plain": [
       "<tf.Tensor 'flatten_3/Reshape:0' shape=(?, ?) dtype=float32>"
      ]
     },
     "execution_count": 108,
     "metadata": {},
     "output_type": "execute_result"
    }
   ],
   "source": [
    "model.layers[4].output"
   ]
  },
  {
   "cell_type": "code",
   "execution_count": 109,
   "metadata": {},
   "outputs": [
    {
     "data": {
      "text/plain": [
       "<tf.Tensor 'dense_5/Relu:0' shape=(?, 512) dtype=float32>"
      ]
     },
     "execution_count": 109,
     "metadata": {},
     "output_type": "execute_result"
    }
   ],
   "source": [
    "model.layers[5].output"
   ]
  },
  {
   "cell_type": "code",
   "execution_count": 110,
   "metadata": {},
   "outputs": [
    {
     "data": {
      "text/plain": [
       "<tf.Tensor 'dropout_6/cond/Merge:0' shape=(?, 512) dtype=float32>"
      ]
     },
     "execution_count": 110,
     "metadata": {},
     "output_type": "execute_result"
    }
   ],
   "source": [
    "model.layers[6].output"
   ]
  },
  {
   "cell_type": "code",
   "execution_count": 111,
   "metadata": {},
   "outputs": [
    {
     "data": {
      "text/plain": [
       "<tf.Tensor 'dense_6/Softmax:0' shape=(?, 10) dtype=float32>"
      ]
     },
     "execution_count": 111,
     "metadata": {},
     "output_type": "execute_result"
    }
   ],
   "source": [
    "model.layers[7].output"
   ]
  },
  {
   "cell_type": "code",
   "execution_count": 94,
   "metadata": {},
   "outputs": [
    {
     "name": "stdout",
     "output_type": "stream",
     "text": [
      "Train on 50000 samples, validate on 10000 samples\n",
      "Epoch 1/4\n",
      "50000/50000 [==============================] - 171s - loss: 1.7277 - acc: 0.3780 - val_loss: 1.4537 - val_acc: 0.4848\n",
      "Epoch 2/4\n",
      "50000/50000 [==============================] - 174s - loss: 1.4254 - acc: 0.4915 - val_loss: 1.3245 - val_acc: 0.5364\n",
      "Epoch 3/4\n",
      "50000/50000 [==============================] - 177s - loss: 1.3320 - acc: 0.5229 - val_loss: 1.2659 - val_acc: 0.5474\n",
      "Epoch 4/4\n",
      "50000/50000 [==============================] - 179s - loss: 1.2814 - acc: 0.5419 - val_loss: 1.2346 - val_acc: 0.5654\n",
      "Accuracy: 56.54%\n"
     ]
    }
   ],
   "source": [
    "model.fit(X_train, y_train, validation_data = (X_test, y_test), epochs = epochs, batch_size = 32)\n",
    "\n",
    "scores = model.evaluate(X_test, y_test, verbose = 0)\n",
    "print('Accuracy: %.2f%%'%(scores[1]*100))"
   ]
  },
  {
   "cell_type": "code",
   "execution_count": 50,
   "metadata": {},
   "outputs": [
    {
     "data": {
      "text/plain": [
       "'tensorflow'"
      ]
     },
     "execution_count": 50,
     "metadata": {},
     "output_type": "execute_result"
    }
   ],
   "source": [
    "keras.backend.backend()"
   ]
  },
  {
   "cell_type": "markdown",
   "metadata": {},
   "source": [
    "# MNIST digit recognition"
   ]
  },
  {
   "cell_type": "code",
   "execution_count": 51,
   "metadata": {},
   "outputs": [],
   "source": [
    "# # import data\n",
    "# from keras.datasets import mnist"
   ]
  },
  {
   "cell_type": "code",
   "execution_count": 52,
   "metadata": {},
   "outputs": [],
   "source": [
    "# # Train test split\n",
    "\n",
    "# (X_train, y_train), (X_test, y_test) = mnist.load_data()"
   ]
  },
  {
   "cell_type": "code",
   "execution_count": 53,
   "metadata": {},
   "outputs": [],
   "source": [
    "# from random import randint\n",
    "# from matplotlib import pyplot\n",
    "\n",
    "# %matplotlib inline"
   ]
  },
  {
   "cell_type": "code",
   "execution_count": 66,
   "metadata": {},
   "outputs": [
    {
     "data": {
      "text/plain": [
       "<matplotlib.image.AxesImage at 0x26fb18346a0>"
      ]
     },
     "execution_count": 66,
     "metadata": {},
     "output_type": "execute_result"
    },
    {
     "data": {
      "image/png": "[encoded data removed]",
      "text/plain": [
       "<Figure size 432x288 with 1 Axes>"
      ]
     },
     "metadata": {
      "needs_background": "light"
     },
     "output_type": "display_data"
    }
   ],
   "source": [
    "# # Visually inspect your data\n",
    "# pyplot.imshow(X_train[randint(0, X_train.shape[0])], cmap = 'gray_r')"
   ]
  },
  {
   "cell_type": "code",
   "execution_count": 68,
   "metadata": {},
   "outputs": [],
   "source": [
    "# # Munge data\n",
    "# # Transform from matrix to vector, cast and normalize:\n",
    "\n",
    "# image_size = 28*28\n",
    "# X_train = X_train.reshape(X_train.shape[0], image_size)\n",
    "# X_train = X_train.astype('float32')\n",
    "# X_train = X_train/255\n",
    "\n",
    "# X_test = X_test.reshape(X_test.shape[0], image_size)\n",
    "# X_test = X_test.astype('float32')\n",
    "# X_test = X_test/255"
   ]
  },
  {
   "cell_type": "code",
   "execution_count": 69,
   "metadata": {},
   "outputs": [],
   "source": [
    "# # Convert class vectors to binary class matrices\n",
    "\n",
    "# y_train = keras.utils.to_categorical(y_train, 10)\n",
    "# y_test = keras.utils.to_categorical(y_test, 10)"
   ]
  },
  {
   "cell_type": "code",
   "execution_count": 70,
   "metadata": {},
   "outputs": [],
   "source": [
    "# # Import the most common type of neural network\n",
    "\n",
    "# from keras.models import Sequential\n",
    "\n",
    "# #We have the class of Sequential"
   ]
  },
  {
   "cell_type": "code",
   "execution_count": 78,
   "metadata": {},
   "outputs": [],
   "source": [
    "# #Define model instance\n",
    "\n",
    "# model = Sequential()\n",
    "\n",
    "# # most common type of layer is Dense layer, fully connected\n",
    "\n",
    "# from keras.layers import Dense\n",
    "# # Gives us a bipartite graph which is fully connected - means every node in one layer is fully connected \n",
    "# # to all the nodes in the other layer, we dont know what will happen to our data so this gives flexibility"
   ]
  },
  {
   "cell_type": "code",
   "execution_count": 79,
   "metadata": {},
   "outputs": [],
   "source": [
    "# # Define input layer\n",
    "# # Nodes are called units\n",
    "\n",
    "# layer_input = Dense(units = 512, \n",
    "#                    activation = 'sigmoid', \n",
    "#                    input_shape = (image_size,))\n",
    "\n",
    "# # Once we create layer, then we need to add it to the model\n",
    "\n",
    "# # We have general instance called model and there is a method called add\n",
    "\n",
    "# model.add(layer_input)\n",
    "\n",
    "# # or, model.add(Dense(units = 512, activation = 'sigmoid', input_size = (image_size, ))"
   ]
  },
  {
   "cell_type": "code",
   "execution_count": 80,
   "metadata": {},
   "outputs": [],
   "source": [
    "# # Define output layer\n",
    "# # Softmax allows to map NN activation to categories\n",
    "\n",
    "# layer_output= Dense(units = 10, \n",
    "#                    activation = 'softmax')\n",
    "\n",
    "# model.add(layer_output)"
   ]
  },
  {
   "cell_type": "code",
   "execution_count": 81,
   "metadata": {},
   "outputs": [
    {
     "name": "stdout",
     "output_type": "stream",
     "text": [
      "_________________________________________________________________\n",
      "Layer (type)                 Output Shape              Param #   \n",
      "=================================================================\n",
      "dense_6 (Dense)              (None, 512)               401920    \n",
      "_________________________________________________________________\n",
      "dense_7 (Dense)              (None, 10)                5130      \n",
      "=================================================================\n",
      "Total params: 407,050\n",
      "Trainable params: 407,050\n",
      "Non-trainable params: 0\n",
      "_________________________________________________________________\n"
     ]
    }
   ],
   "source": [
    "# # Print summary of model architecture\n",
    "# model.summary()"
   ]
  },
  {
   "cell_type": "code",
   "execution_count": 82,
   "metadata": {},
   "outputs": [],
   "source": [
    "# Add training parameters to model architecture\n",
    "\n",
    "# model.compile(loss = 'categorical_crossentropy', \n",
    "#              optimizer = 'sgd',\n",
    "#              metrics = ['accuracy'])\n"
   ]
  },
  {
   "cell_type": "code",
   "execution_count": 85,
   "metadata": {},
   "outputs": [
    {
     "name": "stdout",
     "output_type": "stream",
     "text": [
      "Train on 59400 samples, validate on 600 samples\n",
      "Epoch 1/5\n",
      "59400/59400 [==============================] - 5s - loss: 1.3176 - acc: 0.7118 - val_loss: 0.6518 - val_acc: 0.8917\n",
      "Epoch 2/5\n",
      "59400/59400 [==============================] - 5s - loss: 0.6240 - acc: 0.8559 - val_loss: 0.4129 - val_acc: 0.9183\n",
      "Epoch 3/5\n",
      "59400/59400 [==============================] - 7s - loss: 0.4825 - acc: 0.8753 - val_loss: 0.3619 - val_acc: 0.9183\n",
      "Epoch 4/5\n",
      "59400/59400 [==============================] - 7s - loss: 0.4239 - acc: 0.8851 - val_loss: 0.3240 - val_acc: 0.9267\n",
      "Epoch 5/5\n",
      "59400/59400 [==============================] - 6s - loss: 0.3915 - acc: 0.8919 - val_loss: 0.3086 - val_acc: 0.9283\n"
     ]
    }
   ],
   "source": [
    "# training = model.fit(X_train, y_train, epochs = 5, verbose= True, validation_split = 0.01)"
   ]
  }
 ],
 "metadata": {
  "kernelspec": {
   "display_name": "Python 3",
   "language": "python",
   "name": "python3"
  },
  "language_info": {
   "codemirror_mode": {
    "name": "ipython",
    "version": 3
   },
   "file_extension": ".py",
   "mimetype": "text/x-python",
   "name": "python",
   "nbconvert_exporter": "python",
   "pygments_lexer": "ipython3",
   "version": "3.6.5"
  }
 },
 "nbformat": 4,
 "nbformat_minor": 2
}
